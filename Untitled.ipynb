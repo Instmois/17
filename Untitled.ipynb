{
 "cells": [
  {
   "cell_type": "markdown",
   "id": "e6a7d7a5",
   "metadata": {},
   "source": [
    "# 17. Метод Штрассена"
   ]
  },
  {
   "cell_type": "markdown",
   "id": "da0f24f9",
   "metadata": {},
   "source": [
    "#### Метод  Штрассена умножения матриц заключается в разбиении матрицы на 4 равные клетки\n",
    "$$\n",
    "\\left(\n",
    "\\begin{array}{cc}\n",
    "C_{11} & C_{12}   \\\\\n",
    "C_{21} & C_{22}   \\\\\n",
    "\\end{array}\n",
    "\\right)\n",
    "=\n",
    "\\left(\n",
    "\\begin{array}{cc}\n",
    "A_{11} & A_{12}   \\\\\n",
    "A_{21} & A_{22}   \\\\\n",
    "\\end{array}\n",
    "\\right)\n",
    "\\cdot\n",
    "\\left(\n",
    "\\begin{array}{cc}\n",
    "B_{11} & B_{12}   \\\\\n",
    "B_{21} & B_{22}   \\\\\n",
    "\\end{array}\n",
    "\\right),\n",
    "$$\n",
    " и нахождения\n",
    "произведения по формулам:\n",
    "$$\n",
    "\\begin{array}{l}\n",
    "D_1 = (A_{11} + A_{22}) \\cdot (B_{11} + B_{22}), \\\\\n",
    "D_2 = (A_{12} - A_{22}) \\cdot (B_{21} + B_{22}), \\\\\n",
    "D_3 = (A_{11} - A_{21}) \\cdot (B_{11} + B_{12}), \\\\\n",
    "D_4 = (A_{11} + A_{12}) \\cdot B_{22}, \\\\\n",
    "D_5 = (A_{21} + A_{22}) \\cdot B_{11}, \\\\\n",
    "D_6 = A_{11} \\cdot (B_{12} - B_{22}), \\\\\n",
    "D_7 = A_{22} \\cdot (-B_{11}+B_{21}), \\\\\n",
    "\\end{array}\n",
    "$$\n",
    "и\n",
    "$$\n",
    "  \\begin{array}{l}\n",
    "    C_{11}  =    D_1   +   D_2             -   D_4                      +    D_7   ,\\\\\n",
    "    C_{12}  =                                  D_4            +    D_6,             \\\\\n",
    "    C_{21}  =                                            D_5            +    D_7   ,\\\\\n",
    "    C_{22}  =    D_1             -   D_3             -   D_5  +    D_6.             \\\\\n",
    "  \\end{array}\n",
    "$$\n"
   ]
  },
  {
   "cell_type": "code",
   "execution_count": 108,
   "id": "2e72989b",
   "metadata": {},
   "outputs": [],
   "source": [
    "import numpy as np\n",
    "import time\n",
    "import random\n",
    "import matplotlib.pyplot as plt\n",
    "import math"
   ]
  },
  {
   "cell_type": "markdown",
   "id": "ee1d19be",
   "metadata": {},
   "source": [
    "# Функция умножения матриц методом Штрассена"
   ]
  },
  {
   "cell_type": "code",
   "execution_count": 109,
   "id": "b86c38f1",
   "metadata": {},
   "outputs": [],
   "source": [
    "def strassen(A,B):\n",
    "    n = len(A)\n",
    "    C = np.zeros((n*n), dtype=np.float32).reshape(n,n)\n",
    "    if n == 1:\n",
    "        C[0][0] = A[0][0] * B[0][0]\n",
    "    else:\n",
    "        k = n//2\n",
    "        \n",
    "        a11,a21,a12,a22 = A[:k,:k], A[k:, :k], A[:k, k:], A[k:, k:]\n",
    "        b11,b21,b12,b22 = B[:k,:k], B[k:, :k], B[:k, k:], B[k:, k:]\n",
    "\n",
    "        h1 = a11 + a22\n",
    "        h2 = b11 + b22\n",
    "        h3 = a12 - a22\n",
    "        h4 = b21 + b22\n",
    "        h5 = a11 - a21\n",
    "        h6 = b11 + b12\n",
    "        h7 = a11 + a12\n",
    "        h8 = a21 + a22\n",
    "        h9 = b12 - b22\n",
    "        h10 = b21 - b11\n",
    "        \n",
    "        d1 = strassen(h1, h2)\n",
    "        d2 = strassen(h3, h4)\n",
    "        d3 = strassen(h5, h6)\n",
    "        d4 = strassen(h7, b22)\n",
    "        d5 = strassen(h8, b11)\n",
    "        d6 = strassen(a11, h9)\n",
    "        d7 = strassen(a22, h10)\n",
    "\n",
    "        C[:k,:k] = d1 + d2 - d4 + d7\n",
    "        C[:k, k:] = d4 + d6\n",
    "        C[k:, :k] = d5 + d7\n",
    "        C[k:, k:] = d1 - d3 - d5 + d6\n",
    "\n",
    "    return C"
   ]
  },
  {
   "cell_type": "markdown",
   "id": "cb06c7ba",
   "metadata": {},
   "source": [
    "# Обычный алгоритм умножения квадратных матриц порядка $n$"
   ]
  },
  {
   "cell_type": "code",
   "execution_count": 110,
   "id": "bd6467ed",
   "metadata": {},
   "outputs": [],
   "source": [
    "def DefaultMultiplication(A,B):\n",
    "    n=len(A)\n",
    "    C = np.zeros((n*n), dtype=np.float32).reshape(n,n)\n",
    "    if(n==1):\n",
    "        return A[0][0]*B[0][0]\n",
    "    else:\n",
    "        for i in range(n):\n",
    "            for k in range(n):\n",
    "                for j in range(n):\n",
    "                    C[i][j] += A[i][k] * B[k][j]\n",
    "        return C"
   ]
  },
  {
   "cell_type": "markdown",
   "id": "b1b99029",
   "metadata": {},
   "source": [
    "# Исследуем время выполнения умножения"
   ]
  },
  {
   "cell_type": "markdown",
   "id": "8a0a539f",
   "metadata": {},
   "source": [
    "#### Создадим функцию, создающую два массива размером $n*n$, заполненную случайными значениями с плавающей точкой от $0$ до $1$"
   ]
  },
  {
   "cell_type": "code",
   "execution_count": 111,
   "id": "59d870eb",
   "metadata": {},
   "outputs": [],
   "source": [
    "def Gen(n):\n",
    "    A = np.random.uniform(0,1, size=(n,n))\n",
    "    B = np.random.uniform(0,1, size=(n,n))\n",
    "    return A, B"
   ]
  },
  {
   "cell_type": "markdown",
   "id": "7bb8843f",
   "metadata": {},
   "source": [
    "#### Создадим функцию отрисовки графиков, которая принимает на вход мерность матрицы, скорость работы алгоритма Штрассена и скорость работы обычного алгоритма умножения"
   ]
  },
  {
   "cell_type": "code",
   "execution_count": 117,
   "id": "d27e04ee",
   "metadata": {},
   "outputs": [],
   "source": [
    "def Graf(n,timeStrassen,timeDefault,k):\n",
    "    if k == 1:\n",
    "        fs = np.polyfit(n,timeStrassen,4)\n",
    "        fd = np.polyfit(n,timeDefault,4)\n",
    "        xx = np.linspace(1,2**(n.shape[0]-1),500)  \n",
    "        uu = np.linspace(1,2**(n.shape[0]-1),500)\n",
    "        yS = np.polyval(fs, xx)\n",
    "        yD = np.polyval(fd, uu)\n",
    "        plt.plot(xx, yS, color = 'tab:orange',label='Strassen algoritm')\n",
    "        plt.plot(uu, yD, color = 'tab:purple',label='Default algoritm')\n",
    "        plt.plot(n, timeStrassen ,'o', color = 'tab:green')\n",
    "        plt.plot(n, timeDefault,'o', color = 'tab:red')\n",
    "        plt.title('График роста времени работы алгоритмов')\n",
    "        plt.xlabel('Порядок матрицы')\n",
    "        plt.ylabel('Время работы алгоритмов')\n",
    "        plt.grid()\n",
    "        plt.legend()\n",
    "        pass\n",
    "    else:  \n",
    "        plt.plot(n, timeDefault ,'o', color = 'tab:red',label='Strassen algoritm')\n",
    "        plt.plot(n, timeStrassen,'o', color = 'tab:green',label='Default algoritm')\n",
    "        plt.title('Зависимость')\n",
    "        plt.xlabel('Порядок матрицы')\n",
    "        plt.ylabel('Время работы алгоритмов')\n",
    "        plt.grid()\n",
    "        plt.legend()"
   ]
  },
  {
   "cell_type": "markdown",
   "id": "79e9b8f3",
   "metadata": {},
   "source": [
    "### Напишем код, реализующий тестирование функций, в котором время выполнения каждого алгоритма умножения записывается в массив и после передется в функцию Graf:"
   ]
  },
  {
   "cell_type": "code",
   "execution_count": null,
   "id": "ba463a6c",
   "metadata": {},
   "outputs": [],
   "source": [
    "g = 10\n",
    "timeStrassen= np.zeros((g),dtype=np.float64)\n",
    "timeDefault= np.zeros((g),dtype=np.float64)\n",
    "\n",
    "n = np.arange(g)\n",
    "l = math.log(7)/math.log(2)\n",
    "\n",
    "OStrassen= np.zeros((g),dtype=np.float64)\n",
    "ODefault= np.zeros((g),dtype=np.float64)\n",
    "\n",
    "for i in range(g):\n",
    "    k = 2**i\n",
    "    A,B = Gen(k)\n",
    "    n[i]=k;\n",
    "    \n",
    "    start_time=time.time()\n",
    "    C = strassen(A, B)\n",
    "    delta_time=time.time() - start_time\n",
    "    timeStrassen[i] = delta_time\n",
    "    \n",
    "    OStrassen[i] = delta_time/(k**l)\n",
    "    \n",
    "    start_time=time.time()\n",
    "    C = DefaultMultiplication(A,B)\n",
    "    delta_time=time.time() - start_time\n",
    "    timeDefault[i] = delta_time\n",
    "    \n",
    "    ODefault[i] = delta_time/(k**3)"
   ]
  },
  {
   "cell_type": "code",
   "execution_count": 114,
   "id": "cac4236c",
   "metadata": {},
   "outputs": [
    {
     "data": {
      "image/png": "[encoded data removed]",
      "text/plain": [
       "<Figure size 432x288 with 1 Axes>"
      ]
     },
     "metadata": {
      "needs_background": "light"
     },
     "output_type": "display_data"
    }
   ],
   "source": [
    "Graf(n,timeStrassen,timeDefault,1)"
   ]
  },
  {
   "cell_type": "markdown",
   "id": "8a6b6577",
   "metadata": {},
   "source": [
    "###### Заметим,что в матрицах, порядок которых $5$ и более, алгоритм Штрассена работает быстрее, чем больше порядок матриц, тем больше разница во времени работы алгоритмов."
   ]
  },
  {
   "cell_type": "markdown",
   "id": "59ec4370",
   "metadata": {},
   "source": [
    "### Докажем асимптотику алгоритма Штрассена  $O(n^{\\log_2 7})$ и обычного алгоритма $O(n^{3})$ умножения матриц. Для этого поделим время выполнения алгоритма на его сложность, что было сделано ранее."
   ]
  },
  {
   "cell_type": "code",
   "execution_count": 116,
   "id": "4873b125",
   "metadata": {},
   "outputs": [
    {
     "data": {
      "image/png": "[encoded data removed]",
      "text/plain": [
       "<Figure size 432x288 with 1 Axes>"
      ]
     },
     "metadata": {
      "needs_background": "light"
     },
     "output_type": "display_data"
    }
   ],
   "source": [
    "Graf(n,OStrassen,ODefault,0)"
   ]
  },
  {
   "cell_type": "markdown",
   "id": "cca5753b",
   "metadata": {},
   "source": [
    "#### Исходя из графика видим, что время вырполнения работы алгоритма штрассена растет по $n^{log_2 7}$, а время выполнения обчного алгоритма по $n^{3}$."
   ]
  },
  {
   "cell_type": "markdown",
   "id": "8dddeb4b",
   "metadata": {},
   "source": [
    "# Вывод\n",
    "В данной работе я доказал, что для матриц размерности $2^k$ алгоритм Штрассена работает быстрее обычного алгоритма умножения матриц. Так же доказал что время работы алгоритма Штрассена для умножения матриц рстает по  $n^{log_2 7}$, а обычного по $n^{3}$, следовательно их сложность равна  $O(n^{\\log_2 7})$ и $O(n^{3})$ соответственно."
   ]
  }
 ],
 "metadata": {
  "kernelspec": {
   "display_name": "Python 3 (ipykernel)",
   "language": "python",
   "name": "python3"
  },
  "language_info": {
   "codemirror_mode": {
    "name": "ipython",
    "version": 3
   },
   "file_extension": ".py",
   "mimetype": "text/x-python",
   "name": "python",
   "nbconvert_exporter": "python",
   "pygments_lexer": "ipython3",
   "version": "3.9.7"
  }
 },
 "nbformat": 4,
 "nbformat_minor": 5
}
